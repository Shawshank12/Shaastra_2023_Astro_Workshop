{
 "cells": [
  {
   "cell_type": "code",
   "execution_count": null,
   "metadata": {
    "collapsed": true
   },
   "outputs": [],
   "source": [
    "import matplotlib.pyplot as plt\n",
    "import numpy as np"
   ]
  },
  {
   "cell_type": "code",
   "execution_count": null,
   "metadata": {
    "collapsed": true
   },
   "outputs": [],
   "source": [
    "def keplerIII_period_to_semimajor_axis(orbital_period):\n",
    "    #########################################################\n",
    "    # Units: orbital period [yr], separation [au]           #\n",
    "    #########################################################\n",
    "    semimajor_axis_cubed = orbital_period**2\n",
    "    semimajor_axis = semimajor_axis_cubed**(1./3.)\n",
    "    \n",
    "    return semimajor_axis\n",
    "\n",
    "def make_kepler_orbit(eccentricity,orbital_period):\n",
    "    ##########################################################\n",
    "    # Units: orbital period [years]                          #\n",
    "    # returns: 500 true anomaly values throughout the orbit  #\n",
    "    ##########################################################\n",
    "    nStep = 500\n",
    "    tRange = np.linspace(0.0,orbital_period,nStep)\n",
    "    \n",
    "    theta = []    \n",
    "    for time in tRange:\n",
    "        PsiDiff = 1.0\n",
    "        M = 2*np.pi*time/orbital_period\n",
    "        PsiOld = M\n",
    "        theta0old = 180.0\n",
    "        while PsiDiff > 1e-10:\n",
    "            PsiNew = M + eccentricity*np.sin(PsiOld)\n",
    "            PsiDiff = PsiNew-PsiOld\n",
    "            PsiOld = PsiNew\n",
    "        theta0 = 2*np.arctan(((1+eccentricity)/(1-eccentricity))**(0.5)*np.tan(PsiOld/2.))\n",
    "        theta.append(theta0)        \n",
    "    return theta"
   ]
  },
  {
   "cell_type": "code",
   "execution_count": null,
   "metadata": {
    "collapsed": true
   },
   "outputs": [],
   "source": [
    "orbital_period = 1.0\n",
    "eccentricity = 0.02"
   ]
  },
  {
   "cell_type": "code",
   "execution_count": null,
   "metadata": {
    "collapsed": true
   },
   "outputs": [],
   "source": [
    "list1 = make_kepler_orbit(eccentricity,orbital_period)"
   ]
  },
  {
   "cell_type": "code",
   "execution_count": null,
   "metadata": {
    "collapsed": true
   },
   "outputs": [],
   "source": [
    "def orbit(semimajor_axis,eccentricity,true_anomaly): \n",
    "    ##############################################\n",
    "    # Units: separation [au] #\n",
    "    ##############################################\n",
    "    \n",
    "    # define the shape equation\n",
    "    r_orbit = semimajor_axis*(1 - eccentricity**2)/(1 + eccentricity*np.cos(true_anomaly))\n",
    "    x_orbit = r_orbit*np.cos(true_anomaly)\n",
    "    y_orbit = r_orbit*np.sin(true_anomaly)\n",
    "     \n",
    "    \n",
    "    return x_orbit,y_orbit"
   ]
  },
  {
   "cell_type": "code",
   "execution_count": null,
   "metadata": {
    "collapsed": true
   },
   "outputs": [],
   "source": [
    "semimajor_axis = keplerIII_period_to_semimajor_axis(orbital_period)"
   ]
  },
  {
   "cell_type": "code",
   "execution_count": null,
   "metadata": {
    "collapsed": true
   },
   "outputs": [],
   "source": [
    "xOrbit, yOrbit = orbit(semimajor_axis,eccentricity,list1)"
   ]
  },
  {
   "cell_type": "code",
   "execution_count": null,
   "metadata": {},
   "outputs": [],
   "source": [
    "plt.title('Earth orbit')\n",
    "# The Sun is located at the origin.\n",
    "plt.scatter(0,0, color='orange')\n",
    "plt.scatter(xOrbit,yOrbit, s=0.8)\n",
    "plt.axis('equal')\n",
    "plt.xlabel('x position [au]')\n",
    "plt.ylabel('y position [au]')\n",
    "plt.show()"
   ]
  },
  {
   "cell_type": "code",
   "execution_count": null,
   "metadata": {},
   "outputs": [],
   "source": [
    "# Define Mercury's parameters; \n",
    "orbital_period_Mercury = 0.48\n",
    "eccentricity_Mercury = 0.21\n",
    "\n",
    "# compute Mercury's true anomaly\n",
    "true_anomaly_Mercury = make_kepler_orbit(eccentricity_Mercury, orbital_period_Mercury)\n",
    "                                         \n",
    "# compute Mercury's separation\n",
    "semimajor_axis_Mercury = keplerIII_period_to_semimajor_axis(orbital_period_Mercury)\n",
    "\n",
    "# compute Mercury's x and y orbital coordinates\n",
    "xOrbit_Mercury, yOrbit_Mercury = orbit(semimajor_axis_Mercury, eccentricity_Mercury, true_anomaly_Mercury)\n",
    "\n",
    "plt.title('Mercury orbit')\n",
    "# The Sun is located at the origin.\n",
    "plt.scatter(0,0, color='orange')\n",
    "plt.scatter(xOrbit_Mercury,yOrbit_Mercury, s=0.8)\n",
    "plt.axis('equal')\n",
    "plt.xlabel('x position [au]')\n",
    "plt.ylabel('y position [au]')\n",
    "plt.show()\n"
   ]
  }
 ],
 "metadata": {
  "kernelspec": {
   "display_name": "Python 3",
   "language": "python",
   "name": "python3"
  },
  "language_info": {
   "codemirror_mode": {
    "name": "ipython",
    "version": 3
   },
   "file_extension": ".py",
   "mimetype": "text/x-python",
   "name": "python",
   "nbconvert_exporter": "python",
   "pygments_lexer": "ipython3",
   "version": "3.11.0"
  },
  "vscode": {
   "interpreter": {
    "hash": "cb3a50f5fc0d0b888443d45616ff735f38d905fecb7e43e70ba03e33c5084024"
   }
  }
 },
 "nbformat": 4,
 "nbformat_minor": 2
}
