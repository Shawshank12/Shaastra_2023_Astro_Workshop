{
 "cells": [
  {
   "cell_type": "code",
   "execution_count": null,
   "metadata": {},
   "outputs": [],
   "source": [
    "import numpy as np\n",
    "import matplotlib.pyplot as plt\n",
    "from matplotlib.animation import FuncAnimation"
   ]
  },
  {
   "cell_type": "code",
   "execution_count": null,
   "metadata": {},
   "outputs": [],
   "source": [
    "t_0 = 0 \n",
    "t = t_0\n",
    "div = 1\n",
    "dt = 86400/div\n",
    "t_end = 86400 * 365 * 20\n",
    "t_array = np.arange(t_0, t_end, dt)\n",
    "BIG_G = 6.67e-11"
   ]
  },
  {
   "cell_type": "code",
   "execution_count": null,
   "metadata": {},
   "outputs": [],
   "source": [
    "positions = np.array([[0, 0], [0, 778.570e9]])\n",
    "masses = [1.989e30, 1898.19e24]\n",
    "velocities = np.array([[0, 0], [13e3, 0]])\n",
    "x_pos = [[],[]]\n",
    "y_pos = [[],[]]"
   ]
  },
  {
   "cell_type": "code",
   "execution_count": null,
   "metadata": {},
   "outputs": [],
   "source": [
    "while t<t_end:\n",
    "    dist = np.linalg.norm(positions[1]-positions[0])\n",
    "    force = (positions[1] - positions[0])*(-1 * BIG_G * masses[0] * masses[1])/dist**3\n",
    "    velocities[0] += -1*force*dt/masses[0]\n",
    "    velocities[1] += force*dt/masses[1]\n",
    "    positions[1] += velocities[1] * dt\n",
    "    positions[0]  += velocities[0] * dt\n",
    "    for i in range(2):\n",
    "        x_pos[i].append(positions[i][0])\n",
    "        y_pos[i].append(positions[i][1])\n",
    "    t += dt"
   ]
  },
  {
   "cell_type": "code",
   "execution_count": null,
   "metadata": {},
   "outputs": [],
   "source": [
    "plt.plot(x_pos[0], y_pos[0])\n",
    "plt.plot(x_pos[1], y_pos[1])\n",
    "plt.axis('equal')"
   ]
  }
 ],
 "metadata": {
  "kernelspec": {
   "display_name": "Python 3",
   "language": "python",
   "name": "python3"
  },
  "language_info": {
   "codemirror_mode": {
    "name": "ipython",
    "version": 3
   },
   "file_extension": ".py",
   "mimetype": "text/x-python",
   "name": "python",
   "nbconvert_exporter": "python",
   "pygments_lexer": "ipython3",
   "version": "3.11.0"
  },
  "orig_nbformat": 4,
  "vscode": {
   "interpreter": {
    "hash": "cb3a50f5fc0d0b888443d45616ff735f38d905fecb7e43e70ba03e33c5084024"
   }
  }
 },
 "nbformat": 4,
 "nbformat_minor": 2
}
